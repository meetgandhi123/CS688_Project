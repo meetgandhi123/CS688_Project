{
  "cells": [
    {
      "cell_type": "code",
      "execution_count": null,
      "metadata": {
        "colab": {
          "base_uri": "https://localhost:8080/"
        },
        "id": "_bjjSfkZ9K30",
        "outputId": "7ee1c80b-ebcf-4cb5-f3b7-b268b042a763"
      },
      "outputs": [],
      "source": [
        "!git clone https://github.com/meetgandhi123/CS688_Project\n",
        "# !cd CS688_Project/ && git pull && cd ..\n",
        "# !pwd"
      ]
    },
    {
      "cell_type": "markdown",
      "metadata": {
        "id": "rGvUsjAz_L2u"
      },
      "source": [
        "# ResNet56"
      ]
    },
    {
      "cell_type": "markdown",
      "metadata": {
        "id": "wj4gybsw_TiH"
      },
      "source": [
        "## CIFAR10"
      ]
    },
    {
      "cell_type": "code",
      "execution_count": null,
      "metadata": {
        "colab": {
          "base_uri": "https://localhost:8080/"
        },
        "id": "iPQapp7P8RiC",
        "outputId": "706de916-b64e-440f-d45a-1e25c8429498"
      },
      "outputs": [],
      "source": [
        "!python Learning-With-Retrospection/CS-KD_techinque/cs-kd/train.py --sgpu 0 --lr 0.1 --epoch 200 --model resnet56 --name cifar10_resnet56 --decay 1e-4 --dataset cifar10 --dataroot ~/data/ -cls --lamda 1"
      ]
    },
    {
      "cell_type": "code",
      "execution_count": null,
      "metadata": {
        "colab": {
          "base_uri": "https://localhost:8080/"
        },
        "id": "8N_S6WrIh-Oh",
        "outputId": "e482ff5d-03a4-41fc-cbf0-1badb99ba3b9"
      },
      "outputs": [],
      "source": [
        "!python Learning-With-Retrospection/CS-KD_techinque/cs-kd/train.py --resume --sgpu 0 --lr 0.1 --epoch 200 --model resnet56 --name cifar10_resnet56 --decay 1e-4 --dataset cifar10 --dataroot ~/data/ -cls --lamda 1"
      ]
    },
    {
      "cell_type": "markdown",
      "metadata": {
        "id": "k36nunYh_WNW"
      },
      "source": [
        "## CIFAR100"
      ]
    },
    {
      "cell_type": "code",
      "execution_count": null,
      "metadata": {
        "colab": {
          "base_uri": "https://localhost:8080/"
        },
        "id": "M1zeGNr8ubc6",
        "outputId": "9996b506-3fe8-4c58-f801-bf865384cd5e"
      },
      "outputs": [],
      "source": [
        "!python Learning-With-Retrospection/CS-KD_techinque/cs-kd/train.py --sgpu 0 --lr 0.1 --epoch 200 --model resnet56 --name cifar100_resnet56 --decay 1e-4 --dataset cifar100 --dataroot ~/data/ -cls --lamda 1"
      ]
    },
    {
      "cell_type": "markdown",
      "metadata": {
        "id": "ZoQMXOOzbBPX"
      },
      "source": [
        "# VGG16-BN"
      ]
    },
    {
      "cell_type": "markdown",
      "metadata": {
        "id": "2fIgjp4gbHjj"
      },
      "source": [
        "## CIFAR10"
      ]
    },
    {
      "cell_type": "code",
      "execution_count": null,
      "metadata": {
        "colab": {
          "base_uri": "https://localhost:8080/"
        },
        "id": "unCILSK39RC4",
        "outputId": "57338521-2d3d-47cf-c0d9-8614cbfca2b1"
      },
      "outputs": [],
      "source": [
        "!python Learning-With-Retrospection/CS-KD_techinque/cs-kd/train.py --sgpu 0 --lr 0.1 --epoch 200 --model CIFAR10_VGG16 --name cifar10_vgg16 --decay 1e-4 --dataset cifar10 --dataroot ~/data/ -cls --lamda 1"
      ]
    },
    {
      "cell_type": "code",
      "execution_count": null,
      "metadata": {
        "colab": {
          "base_uri": "https://localhost:8080/"
        },
        "id": "rCZKwgtUbZS9",
        "outputId": "66c74fba-e244-42f3-fa8f-b452ff39887e"
      },
      "outputs": [],
      "source": [
        "!python Learning-With-Retrospection/CS-KD_techinque/cs-kd/train.py --resume --sgpu 0 --lr 0.1 --epoch 200 --model CIFAR10_VGG16 --name cifar10_vgg16 --decay 1e-4 --dataset cifar10 --dataroot ~/data/ -cls --lamda 1"
      ]
    },
    {
      "cell_type": "markdown",
      "metadata": {
        "id": "2C6ngE_0_BxJ"
      },
      "source": [
        "## CIFAR100"
      ]
    },
    {
      "cell_type": "code",
      "execution_count": null,
      "metadata": {
        "colab": {
          "base_uri": "https://localhost:8080/"
        },
        "id": "qiodQjj2_G1x",
        "outputId": "4f13abd2-598b-48ca-d20c-e05a3ac6ad91"
      },
      "outputs": [],
      "source": [
        "!python Learning-With-Retrospection/CS-KD_techinque/cs-kd/train.py --sgpu 0 --lr 0.1 --epoch 200 --model CIFAR100_VGG16 --name TESTcifar100_vgg16 --decay 1e-4 --dataset cifar100 --dataroot ~/data/ -cls --lamda 1"
      ]
    },
    {
      "cell_type": "markdown",
      "metadata": {
        "id": "mPG6auWv--kk"
      },
      "source": [
        "# Utilities"
      ]
    },
    {
      "cell_type": "code",
      "execution_count": null,
      "metadata": {
        "colab": {
          "base_uri": "https://localhost:8080/"
        },
        "id": "yU0dJsUehiDF",
        "outputId": "11b92fed-fdda-419d-94cd-201e40d35c84"
      },
      "outputs": [],
      "source": [
        "from google.colab import drive\n",
        "drive.mount('/content/drive')"
      ]
    },
    {
      "cell_type": "code",
      "execution_count": null,
      "metadata": {
        "id": "6X6OH-fQh5N0"
      },
      "outputs": [],
      "source": [
        "# !cp -r results drive/MyDrive/CS747/project/results"
      ]
    },
    {
      "cell_type": "code",
      "execution_count": null,
      "metadata": {
        "id": "I_cEJHz6dEQv"
      },
      "outputs": [],
      "source": [
        "# !cp -r drive/MyDrive/CS747/project/results ."
      ]
    }
  ],
  "metadata": {
    "accelerator": "GPU",
    "colab": {
      "collapsed_sections": [
        "k36nunYh_WNW",
        "2fIgjp4gbHjj",
        "2C6ngE_0_BxJ"
      ],
      "provenance": []
    },
    "gpuClass": "standard",
    "kernelspec": {
      "display_name": "Python 3.8.8 ('lasaft')",
      "language": "python",
      "name": "python3"
    },
    "language_info": {
      "name": "python",
      "version": "3.8.8"
    },
    "vscode": {
      "interpreter": {
        "hash": "ea2d8fc23e5e8cb0e61c2f5d4fa8cd99ee86b406970893140fc11ca02cafb4ee"
      }
    }
  },
  "nbformat": 4,
  "nbformat_minor": 0
}
