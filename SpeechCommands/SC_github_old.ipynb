{
  "cells": [
    {
      "cell_type": "code",
      "execution_count": null,
      "metadata": {
        "colab": {
          "base_uri": "https://localhost:8080/"
        },
        "id": "L-F9_n7gce1e",
        "outputId": "375d9ab0-880f-46cf-827b-ff0e8075b451"
      },
      "outputs": [
        {
          "output_type": "stream",
          "name": "stdout",
          "text": [
            "Cloning into 'Speech-Command-Classification'...\n",
            "remote: Enumerating objects: 15, done.\u001b[K\n",
            "remote: Counting objects: 100% (15/15), done.\u001b[K\n",
            "remote: Compressing objects: 100% (13/13), done.\u001b[K\n",
            "remote: Total 15 (delta 3), reused 0 (delta 0), pack-reused 0\u001b[K\n",
            "Unpacking objects: 100% (15/15), done.\n"
          ]
        }
      ],
      "source": [
        "!git clone \"https://github.com/aminul-huq/Speech-Command-Classification.git\""
      ]
    },
    {
      "cell_type": "code",
      "execution_count": null,
      "metadata": {
        "colab": {
          "base_uri": "https://localhost:8080/"
        },
        "id": "DP-xhzLScn7x",
        "outputId": "15048d9f-8a28-4f88-9d15-718e24e9047a"
      },
      "outputs": [
        {
          "output_type": "stream",
          "name": "stdout",
          "text": [
            "/content/Speech-Command-Classification\n"
          ]
        }
      ],
      "source": [
        "%cd Speech-Command-Classification/"
      ]
    },
    {
      "cell_type": "code",
      "execution_count": null,
      "metadata": {
        "id": "EP4ikudGhY7P"
      },
      "outputs": [],
      "source": [
        "%mkdir \"data1\""
      ]
    },
    {
      "cell_type": "code",
      "execution_count": null,
      "metadata": {
        "id": "KBaxw8rncc-B"
      },
      "outputs": [],
      "source": [
        "import os, warnings\n",
        "import numpy as np\n",
        "import matplotlib.pyplot as plt\n",
        "warnings.filterwarnings(\"ignore\")\n",
        "import torch\n",
        "import torch.nn as nn\n",
        "from torch.utils.data import DataLoader,random_split,Dataset\n",
        "import torchaudio\n",
        "from torchaudio import transforms\n",
        "from torch import Tensor\n",
        "\n",
        "# from torchaudio.datasets.utils import (\n",
        "#     download_url,\n",
        "#     extract_archive,\n",
        "#     walk_files\n",
        "# )\n",
        "\n",
        "from train_utils import *\n",
        "from model import *\n",
        "from dataloader import *"
      ]
    },
    {
      "cell_type": "code",
      "execution_count": null,
      "metadata": {
        "colab": {
          "base_uri": "https://localhost:8080/",
          "height": 49,
          "referenced_widgets": [
            "13f024033fa5421c8a1ac5058562695e",
            "b6e4a604de0e428b92181c136fe727cf",
            "d601e6191d7142d59d68282272b3b126",
            "e00919840cbb4091bac7ff65af1b397b",
            "8222e33ae50d4603b0718be316e1490c",
            "5ba5abfcdf5b465e833bb55251201f9a",
            "1d15ae31732147be9459dbba30ffb24f",
            "2b1e27a9a9434fdda3ae7e9a2cd14958",
            "40076021bcec4ddebf9b51370c9432eb",
            "263637e230334f2a828f7582d3d370bc",
            "37b3a790cf8d4445888c32d2b6f1fd32"
          ]
        },
        "id": "yKALgYVheXkH",
        "outputId": "f326960e-3f99-4953-bc6f-e8797dfbe5c2"
      },
      "outputs": [
        {
          "output_type": "display_data",
          "data": {
            "text/plain": [
              "  0%|          | 0.00/2.26G [00:00<?, ?B/s]"
            ],
            "application/vnd.jupyter.widget-view+json": {
              "version_major": 2,
              "version_minor": 0,
              "model_id": "13f024033fa5421c8a1ac5058562695e"
            }
          },
          "metadata": {}
        }
      ],
      "source": [
        "dataset = torchaudio.datasets.SPEECHCOMMANDS('./data1/' , url = 'speech_commands_v0.02', folder_in_archive= 'SpeechCommands',  download = True)"
      ]
    },
    {
      "cell_type": "code",
      "execution_count": null,
      "metadata": {
        "id": "agwnbQltcc-D"
      },
      "outputs": [],
      "source": [
        "train_audio_path = './data1/SpeechCommands/speech_commands_v0.02/'\n",
        "\n",
        "labels_dict=os.listdir(train_audio_path)\n",
        "\n",
        "a = torchaudio.datasets.SPEECHCOMMANDS('./data1/' , url = 'speech_commands_v0.02', \n",
        "                                       folder_in_archive= 'SpeechCommands', download = True)"
      ]
    },
    {
      "cell_type": "code",
      "execution_count": null,
      "metadata": {
        "colab": {
          "base_uri": "https://localhost:8080/",
          "height": 319
        },
        "id": "0Mv2ivq3cc-D",
        "outputId": "aadbf769-45b5-4f3d-c7f6-076d1c72819a"
      },
      "outputs": [
        {
          "output_type": "stream",
          "name": "stdout",
          "text": [
            "Shape of waveform: torch.Size([1, 16000])\n",
            "Sample rate of waveform: 16000\n"
          ]
        },
        {
          "output_type": "execute_result",
          "data": {
            "text/plain": [
              "[<matplotlib.lines.Line2D at 0x7f667a27b450>]"
            ]
          },
          "metadata": {},
          "execution_count": 7
        },
        {
          "output_type": "display_data",
          "data": {
            "text/plain": [
              "<Figure size 432x288 with 1 Axes>"
            ],
            "image/png": "[encoded data removed]"
          },
          "metadata": {
            "needs_background": "light"
          }
        }
      ],
      "source": [
        "filename = \"./data1/SpeechCommands/speech_commands_v0.02/backward/0165e0e8_nohash_0.wav\"\n",
        "waveform, sample_rate = torchaudio.load(filename)\n",
        "\n",
        "print(\"Shape of waveform: {}\".format(waveform.size()))\n",
        "print(\"Sample rate of waveform: {}\".format(sample_rate))\n",
        "\n",
        "plt.figure()\n",
        "plt.plot(waveform.t().numpy())"
      ]
    },
    {
      "cell_type": "code",
      "execution_count": null,
      "metadata": {
        "colab": {
          "base_uri": "https://localhost:8080/",
          "height": 265
        },
        "id": "946nvGRwcc-E",
        "outputId": "9914d7c4-c8ea-4272-dc4e-bff7767c2d1f"
      },
      "outputs": [
        {
          "output_type": "display_data",
          "data": {
            "text/plain": [
              "<Figure size 432x288 with 1 Axes>"
            ],
            "image/png": "[encoded data removed]"
          },
          "metadata": {
            "needs_background": "light"
          }
        }
      ],
      "source": [
        "plt.plot(a[0][0].t())\n",
        "plt.show()"
      ]
    },
    {
      "cell_type": "code",
      "execution_count": null,
      "metadata": {
        "id": "5MnB-XLpfJJa"
      },
      "outputs": [],
      "source": [
        "from tqdm import tqdm"
      ]
    },
    {
      "cell_type": "code",
      "execution_count": null,
      "metadata": {
        "colab": {
          "base_uri": "https://localhost:8080/"
        },
        "id": "EXZTnxG6cc-E",
        "outputId": "f820c6cb-6403-46da-e8d3-5fc03d7daf1f"
      },
      "outputs": [
        {
          "output_type": "stream",
          "name": "stderr",
          "text": [
            "100%|██████████| 105829/105829 [01:36<00:00, 1092.17it/s]\n"
          ]
        }
      ],
      "source": [
        "count=0\n",
        "wave = []\n",
        "labels = []\n",
        "for i in tqdm(range(0,105829)):\n",
        "    if a[i][0].shape == (1,16000):\n",
        "        wave.append(a[i][0])\n",
        "        labels.append(a[i][2])"
      ]
    },
    {
      "cell_type": "code",
      "execution_count": null,
      "metadata": {
        "colab": {
          "base_uri": "https://localhost:8080/",
          "height": 321
        },
        "id": "KnMHyvzHcc-E",
        "outputId": "71b1703d-7d54-46d6-e3a4-03db1ea76c61"
      },
      "outputs": [
        {
          "output_type": "stream",
          "name": "stdout",
          "text": [
            "Shape of spectrogram: torch.Size([1, 40, 81])\n"
          ]
        },
        {
          "output_type": "display_data",
          "data": {
            "text/plain": [
              "<Figure size 720x360 with 2 Axes>"
            ],
            "image/png": "[encoded data removed]"
          },
          "metadata": {
            "needs_background": "light"
          }
        }
      ],
      "source": [
        "specgram = torchaudio.transforms.MFCC()(wave[0])\n",
        "\n",
        "print(\"Shape of spectrogram: {}\".format(specgram.size()))\n",
        "\n",
        "plt.figure(figsize=(10,5))\n",
        "plt.imshow(specgram[0,:,:].numpy())\n",
        "plt.colorbar()\n",
        "plt.show()"
      ]
    },
    {
      "cell_type": "code",
      "execution_count": null,
      "metadata": {
        "colab": {
          "base_uri": "https://localhost:8080/",
          "height": 286
        },
        "id": "G_zeZCkHcc-E",
        "outputId": "7e051133-a8b9-42ec-bffa-0c789ede4d4e"
      },
      "outputs": [
        {
          "output_type": "execute_result",
          "data": {
            "text/plain": [
              "<matplotlib.image.AxesImage at 0x7f6678917490>"
            ]
          },
          "metadata": {},
          "execution_count": 12
        },
        {
          "output_type": "display_data",
          "data": {
            "text/plain": [
              "<Figure size 432x288 with 2 Axes>"
            ],
            "image/png": "[encoded data removed]"
          },
          "metadata": {
            "needs_background": "light"
          }
        }
      ],
      "source": [
        "specgram = torchaudio.transforms.MelSpectrogram()(wave[0])\n",
        "mfcc = torchaudio.transforms.MFCC()(wave[0])\n",
        "\n",
        "\n",
        "fig,ax = plt.subplots(1,2)\n",
        "\n",
        "ax[0].imshow(specgram[0,:,:].numpy())\n",
        "ax[1].imshow(mfcc[0,:,:].numpy())"
      ]
    },
    {
      "cell_type": "code",
      "execution_count": null,
      "metadata": {
        "colab": {
          "base_uri": "https://localhost:8080/"
        },
        "id": "h4ihF4VMcc-E",
        "outputId": "2945f64d-278a-4c6a-f724-fb2e89183024"
      },
      "outputs": [
        {
          "output_type": "stream",
          "name": "stdout",
          "text": [
            "MFCC Features classification\n"
          ]
        }
      ],
      "source": [
        "data_transform = 1\n",
        "\n",
        "if data_transform == 1:\n",
        "    print(\"MFCC Features classification\")\n",
        "    train_audio_transforms = nn.Sequential(\n",
        "            torchaudio.transforms.MFCC(log_mels=False)\n",
        "            )\n",
        "    net = NN2D(num_class=35)\n",
        "elif data_transform == 2:\n",
        "    print(\"Mel Spectogram Features classification\")\n",
        "    train_audio_transforms = nn.Sequential(\n",
        "            torchaudio.transforms.MelSpectrogram()\n",
        "            )\n",
        "    net = NN2DMEL(num_class=35)\n",
        "else:\n",
        "    train_audio_transforms = None\n",
        "    net = NN(num_class=35)"
      ]
    },
    {
      "cell_type": "code",
      "execution_count": null,
      "metadata": {
        "id": "jDf-Q9_Wcc-F"
      },
      "outputs": [],
      "source": [
        "dataset= SpeechDataLoader(wave,labels,labels_dict, train_audio_transforms)\n",
        "\n",
        "traindata, testdata = random_split(dataset, [round(len(dataset)*.8), round(len(dataset)*.2)])\n",
        "\n",
        "trainloader = torch.utils.data.DataLoader(traindata, batch_size=100, shuffle=True)\n",
        "\n",
        "testloader = torch.utils.data.DataLoader(testdata, batch_size=100, shuffle=True)"
      ]
    },
    {
      "cell_type": "code",
      "execution_count": null,
      "metadata": {
        "colab": {
          "base_uri": "https://localhost:8080/"
        },
        "id": "xnr6S1EgpOWr",
        "outputId": "442ab90a-dcbd-447f-dc3e-4280eb9ab148"
      },
      "outputs": [
        {
          "output_type": "stream",
          "name": "stderr",
          "text": [
            "100%|██████████| 764/764 [00:44<00:00, 17.34it/s]\n"
          ]
        }
      ],
      "source": [
        "t=[]\n",
        "for input,output in tqdm(trainloader):\n",
        "    for i in output.tolist():\n",
        "      t.append(i)"
      ]
    },
    {
      "cell_type": "code",
      "execution_count": null,
      "metadata": {
        "colab": {
          "base_uri": "https://localhost:8080/"
        },
        "id": "Vc-0amlyqChu",
        "outputId": "838fc921-3564-4c24-8a75-5e7f4832d32e"
      },
      "outputs": [
        {
          "output_type": "stream",
          "name": "stdout",
          "text": [
            "35\n"
          ]
        }
      ],
      "source": [
        "s=set(t)\n",
        "print(len(s))"
      ]
    },
    {
      "cell_type": "code",
      "execution_count": null,
      "metadata": {
        "id": "tz7z6rL8sIRx"
      },
      "outputs": [],
      "source": [
        "s1=list(s)"
      ]
    },
    {
      "cell_type": "code",
      "execution_count": null,
      "metadata": {
        "id": "t8IdSvYIsJhi"
      },
      "outputs": [],
      "source": [
        "s1.sort()"
      ]
    },
    {
      "cell_type": "code",
      "execution_count": null,
      "metadata": {
        "colab": {
          "base_uri": "https://localhost:8080/"
        },
        "id": "hFqrZBBasMTB",
        "outputId": "d9b7be23-31a7-4e04-f129-1073c43eaaa2"
      },
      "outputs": [
        {
          "output_type": "stream",
          "name": "stdout",
          "text": [
            "[0, 2, 3, 4, 5, 6, 7, 8, 10, 11, 12, 13, 14, 15, 16, 18, 19, 20, 21, 22, 23, 24, 25, 26, 27, 28, 29, 30, 31, 32, 33, 36, 37, 39, 40]\n"
          ]
        }
      ],
      "source": [
        "print(s1)"
      ]
    },
    {
      "cell_type": "code",
      "execution_count": null,
      "metadata": {
        "id": "liQSnKarr9RK"
      },
      "outputs": [],
      "source": [
        "label_mapping={}\n",
        "\n",
        "for i in range(len(s)):\n",
        "    label_mapping[s1[i]]=i"
      ]
    },
    {
      "cell_type": "code",
      "execution_count": null,
      "metadata": {
        "id": "qxVHFhCLsWdV",
        "colab": {
          "base_uri": "https://localhost:8080/"
        },
        "outputId": "a01eb67e-0a9e-47e6-ec1e-ad5ebeedfd4c"
      },
      "outputs": [
        {
          "output_type": "execute_result",
          "data": {
            "text/plain": [
              "{0: 0,\n",
              " 2: 1,\n",
              " 3: 2,\n",
              " 4: 3,\n",
              " 5: 4,\n",
              " 6: 5,\n",
              " 7: 6,\n",
              " 8: 7,\n",
              " 10: 8,\n",
              " 11: 9,\n",
              " 12: 10,\n",
              " 13: 11,\n",
              " 14: 12,\n",
              " 15: 13,\n",
              " 16: 14,\n",
              " 18: 15,\n",
              " 19: 16,\n",
              " 20: 17,\n",
              " 21: 18,\n",
              " 22: 19,\n",
              " 23: 20,\n",
              " 24: 21,\n",
              " 25: 22,\n",
              " 26: 23,\n",
              " 27: 24,\n",
              " 28: 25,\n",
              " 29: 26,\n",
              " 30: 27,\n",
              " 31: 28,\n",
              " 32: 29,\n",
              " 33: 30,\n",
              " 36: 31,\n",
              " 37: 32,\n",
              " 39: 33,\n",
              " 40: 34}"
            ]
          },
          "metadata": {},
          "execution_count": 39
        }
      ],
      "source": [
        "label_mapping"
      ]
    },
    {
      "cell_type": "code",
      "execution_count": null,
      "metadata": {
        "colab": {
          "base_uri": "https://localhost:8080/"
        },
        "id": "YLOnKZfeqdfo",
        "outputId": "2630a024-efef-4025-e6aa-2a1c2a3eb42d"
      },
      "outputs": [
        {
          "output_type": "execute_result",
          "data": {
            "text/plain": [
              "{0,\n",
              " 2,\n",
              " 3,\n",
              " 4,\n",
              " 5,\n",
              " 6,\n",
              " 7,\n",
              " 8,\n",
              " 10,\n",
              " 11,\n",
              " 12,\n",
              " 13,\n",
              " 14,\n",
              " 15,\n",
              " 16,\n",
              " 18,\n",
              " 19,\n",
              " 20,\n",
              " 21,\n",
              " 22,\n",
              " 23,\n",
              " 24,\n",
              " 25,\n",
              " 26,\n",
              " 27,\n",
              " 28,\n",
              " 29,\n",
              " 30,\n",
              " 31,\n",
              " 32,\n",
              " 33,\n",
              " 36,\n",
              " 37,\n",
              " 39,\n",
              " 40}"
            ]
          },
          "metadata": {},
          "execution_count": 40
        }
      ],
      "source": [
        "s"
      ]
    },
    {
      "cell_type": "code",
      "execution_count": null,
      "metadata": {
        "id": "fiHhu1lmlUB6"
      },
      "outputs": [],
      "source": [
        "#device=\"cpu\""
      ]
    },
    {
      "cell_type": "code",
      "execution_count": null,
      "metadata": {
        "colab": {
          "base_uri": "https://localhost:8080/"
        },
        "id": "ROnHPwywhMuR",
        "outputId": "f6cddd24-649d-4ae1-92c0-789fad8615f0"
      },
      "outputs": [
        {
          "output_type": "stream",
          "name": "stdout",
          "text": [
            "cpu\n"
          ]
        }
      ],
      "source": [
        "device = torch.device(\"cuda:0\" if torch.cuda.is_available() else \"cpu\")\n",
        "print(device)\n",
        "net = net.to(device)"
      ]
    },
    {
      "cell_type": "code",
      "execution_count": null,
      "metadata": {
        "id": "Ef9yzJeLcc-F"
      },
      "outputs": [],
      "source": [
        "criterion = nn.CrossEntropyLoss()\n",
        "optimizer = torch.optim.Adam(net.parameters(),lr=0.001)\n",
        "scheduler = torch.optim.lr_scheduler.OneCycleLR(optimizer, max_lr=0.001,\n",
        "                                              steps_per_epoch=int(len(trainloader)),\n",
        "                                              epochs=20,\n",
        "                                              anneal_strategy='linear') \n"
      ]
    },
    {
      "cell_type": "code",
      "execution_count": null,
      "metadata": {
        "id": "TFQ9BYxekTWF"
      },
      "outputs": [],
      "source": [
        "import torch,os\n",
        "from tqdm import tqdm\n",
        "import torch.optim as optim\n",
        "\n",
        "\n",
        "best_acc=0\n",
        "\n",
        "def train_(net,trainloader,optim,scheduler,criterion,epoch,device):\n",
        "    print(\"Training..\")\n",
        "    net.train()\n",
        "    train_loss = 0\n",
        "    total = 0\n",
        "    total_correct = 0\n",
        "    iterator = tqdm(trainloader)\n",
        "    for inputs,targets in iterator:\n",
        "        inputs,targets = inputs.to(device), targets.to(device)\n",
        "        optim.zero_grad()\n",
        "        outputs = net(inputs)\n",
        "        #import pdb; pdb.set_trace()\n",
        "        targets=targets.tolist()\n",
        "        for i in range(len(targets)):\n",
        "            targets[i]=label_mapping[targets[i]]\n",
        "        targets=torch.tensor(targets)\n",
        "        loss = criterion(outputs,targets)\n",
        "        loss.backward()\n",
        "        #optim.step()\n",
        "        scheduler.step()\n",
        "        \n",
        "        train_loss += loss.item()\n",
        "        _,predicted = torch.max(outputs.data,1)\n",
        "        total_correct += (predicted == targets).sum().item()\n",
        "        total += targets.size(0)\n",
        "    \n",
        "    print(\"Epoch: [{}]  loss: [{:.2f}] Accuracy [{:.2f}] \".format(epoch+1,train_loss/len(trainloader),\n",
        "                                                                           total_correct*100/total))\n",
        "    \n",
        "def test_(net,testloader,optim,criterion,epoch,device,model_name):\n",
        "    global best_acc\n",
        "    print(\"validation\")\n",
        "    net.eval()\n",
        "    test_loss,total,total_correct = 0,0,0\n",
        "    \n",
        "    iterator = tqdm(testloader)\n",
        "    \n",
        "    for inputs, targets in iterator:\n",
        "        \n",
        "        inputs, targets = inputs.to(device), targets.to(device)\n",
        "        outputs = net(inputs)\n",
        "        targets=targets.tolist()\n",
        "        for i in range(len(targets)):\n",
        "            targets[i]=label_mapping[targets[i]]\n",
        "        targets=torch.tensor(targets)\n",
        "        loss = criterion(outputs, targets)\n",
        "\n",
        "        test_loss += loss.item()\n",
        "        _, predicted = torch.max(outputs.data, 1)\n",
        "        total += targets.size(0)\n",
        "        total_correct += (predicted == targets).sum().item()\n",
        "\n",
        "    # Save checkpoint when best model\n",
        "    acc = 100. * total_correct / total\n",
        "    print(\"\\nValidation Epoch #%d\\t\\t\\tLoss: %.4f Acc@1: %.2f%%\" %(epoch+1, test_loss/len(testloader), acc))\n",
        "\n",
        "    # f = open(results_txt+\".txt\",\"a+\")\n",
        "    # f.write(\"Validation Epoch #%d\\t\\t\\tLoss: %.4f Acc@1: %.2f%% \\n\" %(epoch+1, test_loss/len(testloader), acc))\n",
        "    # f.close() \n",
        "        \n",
        "    \n",
        "    if acc > best_acc:\n",
        "        \n",
        "        \n",
        "        if isinstance(net, torch.nn.DataParallel):\n",
        "            print(\"multiple GPU\")\n",
        "            print('Saving Best model...\\t\\t\\tTop1 = %.2f%%' %(acc))\n",
        "            state = {\n",
        "                'model':net.module.state_dict(),\n",
        "                'model1': net.state_dict(),\n",
        "                'model2': net,\n",
        "                'acc':acc,\n",
        "                'epoch':epoch,\n",
        "            }\n",
        "        \n",
        "        else:\n",
        "            print(\"not multiple GPU\")\n",
        "            state = {\n",
        "                    'model':net,\n",
        "                    'acc':acc,\n",
        "                    'epoch':epoch,\n",
        "                    }      \n",
        "            \n",
        "        if not os.path.isdir('checkpoint'):\n",
        "            os.mkdir('checkpoint')\n",
        "        save_point = './checkpoint/'\n",
        "        if not os.path.isdir(save_point):\n",
        "            os.mkdir(save_point)\n",
        "        torch.save(state, save_point+model_name+'.t7')\n",
        "        best_acc = acc\n",
        "        \n",
        "    return best_acc"
      ]
    },
    {
      "cell_type": "code",
      "execution_count": null,
      "metadata": {
        "id": "35MHWqyZl6Ni"
      },
      "outputs": [],
      "source": [
        "#os.environ['CUDA_LAUNCH_BLOCKING'] = \"1\""
      ]
    },
    {
      "cell_type": "code",
      "execution_count": null,
      "metadata": {
        "colab": {
          "base_uri": "https://localhost:8080/"
        },
        "id": "1-xW1LYhcc-F",
        "outputId": "2216ec44-5b98-4bbe-a3ab-16797b855b61"
      },
      "outputs": [
        {
          "output_type": "stream",
          "name": "stdout",
          "text": [
            "Training..\n"
          ]
        },
        {
          "output_type": "stream",
          "name": "stderr",
          "text": [
            "100%|██████████| 764/764 [01:32<00:00,  8.24it/s]\n"
          ]
        },
        {
          "output_type": "stream",
          "name": "stdout",
          "text": [
            "Epoch: [1]  loss: [1.56] Accuracy [53.70] \n",
            "validation\n"
          ]
        },
        {
          "output_type": "stream",
          "name": "stderr",
          "text": [
            "100%|██████████| 191/191 [00:15<00:00, 12.24it/s]\n"
          ]
        },
        {
          "output_type": "stream",
          "name": "stdout",
          "text": [
            "\n",
            "Validation Epoch #1\t\t\tLoss: 1.2185 Acc@1: 68.97%\n",
            "not multiple GPU\n",
            "Training..\n"
          ]
        },
        {
          "output_type": "stream",
          "name": "stderr",
          "text": [
            "100%|██████████| 764/764 [01:23<00:00,  9.11it/s]\n"
          ]
        },
        {
          "output_type": "stream",
          "name": "stdout",
          "text": [
            "Epoch: [2]  loss: [1.57] Accuracy [53.38] \n",
            "validation\n"
          ]
        },
        {
          "output_type": "stream",
          "name": "stderr",
          "text": [
            "100%|██████████| 191/191 [00:14<00:00, 12.81it/s]\n"
          ]
        },
        {
          "output_type": "stream",
          "name": "stdout",
          "text": [
            "\n",
            "Validation Epoch #2\t\t\tLoss: 1.2184 Acc@1: 68.97%\n",
            "Training..\n"
          ]
        },
        {
          "output_type": "stream",
          "name": "stderr",
          "text": [
            "100%|██████████| 764/764 [01:26<00:00,  8.88it/s]\n"
          ]
        },
        {
          "output_type": "stream",
          "name": "stdout",
          "text": [
            "Epoch: [3]  loss: [1.57] Accuracy [53.39] \n",
            "validation\n"
          ]
        },
        {
          "output_type": "stream",
          "name": "stderr",
          "text": [
            "100%|██████████| 191/191 [00:14<00:00, 12.84it/s]\n"
          ]
        },
        {
          "output_type": "stream",
          "name": "stdout",
          "text": [
            "\n",
            "Validation Epoch #3\t\t\tLoss: 1.2187 Acc@1: 68.97%\n",
            "Training..\n"
          ]
        },
        {
          "output_type": "stream",
          "name": "stderr",
          "text": [
            "100%|██████████| 764/764 [01:24<00:00,  9.03it/s]\n"
          ]
        },
        {
          "output_type": "stream",
          "name": "stdout",
          "text": [
            "Epoch: [4]  loss: [1.57] Accuracy [53.40] \n",
            "validation\n"
          ]
        },
        {
          "output_type": "stream",
          "name": "stderr",
          "text": [
            "100%|██████████| 191/191 [00:15<00:00, 12.06it/s]\n"
          ]
        },
        {
          "output_type": "stream",
          "name": "stdout",
          "text": [
            "\n",
            "Validation Epoch #4\t\t\tLoss: 1.2187 Acc@1: 68.97%\n",
            "Training..\n"
          ]
        },
        {
          "output_type": "stream",
          "name": "stderr",
          "text": [
            "100%|██████████| 764/764 [01:25<00:00,  8.90it/s]\n"
          ]
        },
        {
          "output_type": "stream",
          "name": "stdout",
          "text": [
            "Epoch: [5]  loss: [1.57] Accuracy [53.50] \n",
            "validation\n"
          ]
        },
        {
          "output_type": "stream",
          "name": "stderr",
          "text": [
            "100%|██████████| 191/191 [00:15<00:00, 12.62it/s]\n"
          ]
        },
        {
          "output_type": "stream",
          "name": "stdout",
          "text": [
            "\n",
            "Validation Epoch #5\t\t\tLoss: 1.2185 Acc@1: 68.97%\n",
            "Training..\n"
          ]
        },
        {
          "output_type": "stream",
          "name": "stderr",
          "text": [
            "100%|██████████| 764/764 [01:23<00:00,  9.19it/s]\n"
          ]
        },
        {
          "output_type": "stream",
          "name": "stdout",
          "text": [
            "Epoch: [6]  loss: [1.57] Accuracy [53.42] \n",
            "validation\n"
          ]
        },
        {
          "output_type": "stream",
          "name": "stderr",
          "text": [
            "100%|██████████| 191/191 [00:15<00:00, 12.49it/s]\n"
          ]
        },
        {
          "output_type": "stream",
          "name": "stdout",
          "text": [
            "\n",
            "Validation Epoch #6\t\t\tLoss: 1.2185 Acc@1: 68.97%\n",
            "Training..\n"
          ]
        },
        {
          "output_type": "stream",
          "name": "stderr",
          "text": [
            "100%|██████████| 764/764 [01:23<00:00,  9.13it/s]\n"
          ]
        },
        {
          "output_type": "stream",
          "name": "stdout",
          "text": [
            "Epoch: [7]  loss: [1.57] Accuracy [53.48] \n",
            "validation\n"
          ]
        },
        {
          "output_type": "stream",
          "name": "stderr",
          "text": [
            "100%|██████████| 191/191 [00:14<00:00, 12.74it/s]\n"
          ]
        },
        {
          "output_type": "stream",
          "name": "stdout",
          "text": [
            "\n",
            "Validation Epoch #7\t\t\tLoss: 1.2184 Acc@1: 68.97%\n",
            "Training..\n"
          ]
        },
        {
          "output_type": "stream",
          "name": "stderr",
          "text": [
            "100%|██████████| 764/764 [01:22<00:00,  9.27it/s]\n"
          ]
        },
        {
          "output_type": "stream",
          "name": "stdout",
          "text": [
            "Epoch: [8]  loss: [1.57] Accuracy [52.98] \n",
            "validation\n"
          ]
        },
        {
          "output_type": "stream",
          "name": "stderr",
          "text": [
            "100%|██████████| 191/191 [00:14<00:00, 12.79it/s]\n"
          ]
        },
        {
          "output_type": "stream",
          "name": "stdout",
          "text": [
            "\n",
            "Validation Epoch #8\t\t\tLoss: 1.2186 Acc@1: 68.97%\n",
            "Training..\n"
          ]
        },
        {
          "output_type": "stream",
          "name": "stderr",
          "text": [
            "100%|██████████| 764/764 [01:22<00:00,  9.24it/s]\n"
          ]
        },
        {
          "output_type": "stream",
          "name": "stdout",
          "text": [
            "Epoch: [9]  loss: [1.57] Accuracy [53.46] \n",
            "validation\n"
          ]
        },
        {
          "output_type": "stream",
          "name": "stderr",
          "text": [
            "100%|██████████| 191/191 [00:14<00:00, 12.77it/s]\n"
          ]
        },
        {
          "output_type": "stream",
          "name": "stdout",
          "text": [
            "\n",
            "Validation Epoch #9\t\t\tLoss: 1.2185 Acc@1: 68.97%\n",
            "Training..\n"
          ]
        },
        {
          "output_type": "stream",
          "name": "stderr",
          "text": [
            "100%|██████████| 764/764 [01:21<00:00,  9.32it/s]\n"
          ]
        },
        {
          "output_type": "stream",
          "name": "stdout",
          "text": [
            "Epoch: [10]  loss: [1.56] Accuracy [53.47] \n",
            "validation\n"
          ]
        },
        {
          "output_type": "stream",
          "name": "stderr",
          "text": [
            "100%|██████████| 191/191 [00:14<00:00, 13.01it/s]\n"
          ]
        },
        {
          "output_type": "stream",
          "name": "stdout",
          "text": [
            "\n",
            "Validation Epoch #10\t\t\tLoss: 1.2186 Acc@1: 68.97%\n",
            "Training..\n"
          ]
        },
        {
          "output_type": "stream",
          "name": "stderr",
          "text": [
            "100%|██████████| 764/764 [01:21<00:00,  9.33it/s]\n"
          ]
        },
        {
          "output_type": "stream",
          "name": "stdout",
          "text": [
            "Epoch: [11]  loss: [1.57] Accuracy [53.28] \n",
            "validation\n"
          ]
        },
        {
          "output_type": "stream",
          "name": "stderr",
          "text": [
            "100%|██████████| 191/191 [00:14<00:00, 12.95it/s]\n"
          ]
        },
        {
          "output_type": "stream",
          "name": "stdout",
          "text": [
            "\n",
            "Validation Epoch #11\t\t\tLoss: 1.2186 Acc@1: 68.97%\n",
            "Training..\n"
          ]
        },
        {
          "output_type": "stream",
          "name": "stderr",
          "text": [
            "100%|██████████| 764/764 [01:22<00:00,  9.25it/s]\n"
          ]
        },
        {
          "output_type": "stream",
          "name": "stdout",
          "text": [
            "Epoch: [12]  loss: [1.56] Accuracy [53.52] \n",
            "validation\n"
          ]
        },
        {
          "output_type": "stream",
          "name": "stderr",
          "text": [
            "100%|██████████| 191/191 [00:15<00:00, 12.71it/s]\n"
          ]
        },
        {
          "output_type": "stream",
          "name": "stdout",
          "text": [
            "\n",
            "Validation Epoch #12\t\t\tLoss: 1.2185 Acc@1: 68.97%\n",
            "Training..\n"
          ]
        },
        {
          "output_type": "stream",
          "name": "stderr",
          "text": [
            "100%|██████████| 764/764 [01:22<00:00,  9.24it/s]\n"
          ]
        },
        {
          "output_type": "stream",
          "name": "stdout",
          "text": [
            "Epoch: [13]  loss: [1.57] Accuracy [53.56] \n",
            "validation\n"
          ]
        },
        {
          "output_type": "stream",
          "name": "stderr",
          "text": [
            "100%|██████████| 191/191 [00:14<00:00, 13.00it/s]\n"
          ]
        },
        {
          "output_type": "stream",
          "name": "stdout",
          "text": [
            "\n",
            "Validation Epoch #13\t\t\tLoss: 1.2187 Acc@1: 68.97%\n",
            "Training..\n"
          ]
        },
        {
          "output_type": "stream",
          "name": "stderr",
          "text": [
            "100%|██████████| 764/764 [01:22<00:00,  9.21it/s]\n"
          ]
        },
        {
          "output_type": "stream",
          "name": "stdout",
          "text": [
            "Epoch: [14]  loss: [1.57] Accuracy [53.52] \n",
            "validation\n"
          ]
        },
        {
          "output_type": "stream",
          "name": "stderr",
          "text": [
            "100%|██████████| 191/191 [00:14<00:00, 13.03it/s]\n"
          ]
        },
        {
          "output_type": "stream",
          "name": "stdout",
          "text": [
            "\n",
            "Validation Epoch #14\t\t\tLoss: 1.2187 Acc@1: 68.97%\n",
            "Training..\n"
          ]
        },
        {
          "output_type": "stream",
          "name": "stderr",
          "text": [
            "100%|██████████| 764/764 [01:22<00:00,  9.31it/s]\n"
          ]
        },
        {
          "output_type": "stream",
          "name": "stdout",
          "text": [
            "Epoch: [15]  loss: [1.57] Accuracy [53.33] \n",
            "validation\n"
          ]
        },
        {
          "output_type": "stream",
          "name": "stderr",
          "text": [
            "100%|██████████| 191/191 [00:15<00:00, 12.70it/s]\n"
          ]
        },
        {
          "output_type": "stream",
          "name": "stdout",
          "text": [
            "\n",
            "Validation Epoch #15\t\t\tLoss: 1.2185 Acc@1: 68.97%\n",
            "Training..\n"
          ]
        },
        {
          "output_type": "stream",
          "name": "stderr",
          "text": [
            "100%|██████████| 764/764 [01:23<00:00,  9.10it/s]\n"
          ]
        },
        {
          "output_type": "stream",
          "name": "stdout",
          "text": [
            "Epoch: [16]  loss: [1.57] Accuracy [53.40] \n",
            "validation\n"
          ]
        },
        {
          "output_type": "stream",
          "name": "stderr",
          "text": [
            "100%|██████████| 191/191 [00:14<00:00, 12.89it/s]\n"
          ]
        },
        {
          "output_type": "stream",
          "name": "stdout",
          "text": [
            "\n",
            "Validation Epoch #16\t\t\tLoss: 1.2184 Acc@1: 68.97%\n",
            "Training..\n"
          ]
        },
        {
          "output_type": "stream",
          "name": "stderr",
          "text": [
            "100%|██████████| 764/764 [01:23<00:00,  9.12it/s]\n"
          ]
        },
        {
          "output_type": "stream",
          "name": "stdout",
          "text": [
            "Epoch: [17]  loss: [1.57] Accuracy [53.45] \n",
            "validation\n"
          ]
        },
        {
          "output_type": "stream",
          "name": "stderr",
          "text": [
            "100%|██████████| 191/191 [00:14<00:00, 13.11it/s]\n"
          ]
        },
        {
          "output_type": "stream",
          "name": "stdout",
          "text": [
            "\n",
            "Validation Epoch #17\t\t\tLoss: 1.2186 Acc@1: 68.97%\n",
            "Training..\n"
          ]
        },
        {
          "output_type": "stream",
          "name": "stderr",
          "text": [
            "100%|██████████| 764/764 [01:22<00:00,  9.25it/s]\n"
          ]
        },
        {
          "output_type": "stream",
          "name": "stdout",
          "text": [
            "Epoch: [18]  loss: [1.57] Accuracy [53.52] \n",
            "validation\n"
          ]
        },
        {
          "output_type": "stream",
          "name": "stderr",
          "text": [
            "100%|██████████| 191/191 [00:14<00:00, 12.96it/s]\n"
          ]
        },
        {
          "output_type": "stream",
          "name": "stdout",
          "text": [
            "\n",
            "Validation Epoch #18\t\t\tLoss: 1.2188 Acc@1: 68.97%\n",
            "Training..\n"
          ]
        },
        {
          "output_type": "stream",
          "name": "stderr",
          "text": [
            "100%|██████████| 764/764 [01:23<00:00,  9.20it/s]\n"
          ]
        },
        {
          "output_type": "stream",
          "name": "stdout",
          "text": [
            "Epoch: [19]  loss: [1.57] Accuracy [53.09] \n",
            "validation\n"
          ]
        },
        {
          "output_type": "stream",
          "name": "stderr",
          "text": [
            "100%|██████████| 191/191 [00:15<00:00, 12.70it/s]\n"
          ]
        },
        {
          "output_type": "stream",
          "name": "stdout",
          "text": [
            "\n",
            "Validation Epoch #19\t\t\tLoss: 1.2184 Acc@1: 68.97%\n",
            "Training..\n"
          ]
        },
        {
          "output_type": "stream",
          "name": "stderr",
          "text": [
            "100%|██████████| 764/764 [01:22<00:00,  9.27it/s]\n"
          ]
        },
        {
          "output_type": "stream",
          "name": "stdout",
          "text": [
            "Epoch: [20]  loss: [1.57] Accuracy [53.49] \n",
            "validation\n"
          ]
        },
        {
          "output_type": "stream",
          "name": "stderr",
          "text": [
            "100%|██████████| 191/191 [00:15<00:00, 12.59it/s]"
          ]
        },
        {
          "output_type": "stream",
          "name": "stdout",
          "text": [
            "\n",
            "Validation Epoch #20\t\t\tLoss: 1.2185 Acc@1: 68.97%\n"
          ]
        },
        {
          "output_type": "stream",
          "name": "stderr",
          "text": [
            "\n"
          ]
        }
      ],
      "source": [
        "num_epochs=20\n",
        "\n",
        "for epoch in range(num_epochs):    \n",
        "    train_(net,trainloader,optimizer,scheduler,criterion,epoch,device)\n",
        "    best_acc = test_(net,testloader,optimizer,criterion,epoch,device,'SC')"
      ]
    },
    {
      "cell_type": "code",
      "execution_count": null,
      "metadata": {
        "id": "TKQkIVelcc-F"
      },
      "outputs": [],
      "source": []
    }
  ],
  "metadata": {
    "colab": {
      "provenance": []
    },
    "gpuClass": "standard",
    "kernelspec": {
      "display_name": "Python [conda env:pyTorch]",
      "language": "python",
      "name": "conda-env-pyTorch-py"
    },
    "language_info": {
      "codemirror_mode": {
        "name": "ipython",
        "version": 3
      },
      "file_extension": ".py",
      "mimetype": "text/x-python",
      "name": "python",
      "nbconvert_exporter": "python",
      "pygments_lexer": "ipython3",
      "version": "3.7.7"
    },
    "widgets": {
      "application/vnd.jupyter.widget-state+json": {
        "13f024033fa5421c8a1ac5058562695e": {
          "model_module": "@jupyter-widgets/controls",
          "model_name": "HBoxModel",
          "model_module_version": "1.5.0",
          "state": {
            "_dom_classes": [],
            "_model_module": "@jupyter-widgets/controls",
            "_model_module_version": "1.5.0",
            "_model_name": "HBoxModel",
            "_view_count": null,
            "_view_module": "@jupyter-widgets/controls",
            "_view_module_version": "1.5.0",
            "_view_name": "HBoxView",
            "box_style": "",
            "children": [
              "IPY_MODEL_b6e4a604de0e428b92181c136fe727cf",
              "IPY_MODEL_d601e6191d7142d59d68282272b3b126",
              "IPY_MODEL_e00919840cbb4091bac7ff65af1b397b"
            ],
            "layout": "IPY_MODEL_8222e33ae50d4603b0718be316e1490c"
          }
        },
        "b6e4a604de0e428b92181c136fe727cf": {
          "model_module": "@jupyter-widgets/controls",
          "model_name": "HTMLModel",
          "model_module_version": "1.5.0",
          "state": {
            "_dom_classes": [],
            "_model_module": "@jupyter-widgets/controls",
            "_model_module_version": "1.5.0",
            "_model_name": "HTMLModel",
            "_view_count": null,
            "_view_module": "@jupyter-widgets/controls",
            "_view_module_version": "1.5.0",
            "_view_name": "HTMLView",
            "description": "",
            "description_tooltip": null,
            "layout": "IPY_MODEL_5ba5abfcdf5b465e833bb55251201f9a",
            "placeholder": "​",
            "style": "IPY_MODEL_1d15ae31732147be9459dbba30ffb24f",
            "value": "100%"
          }
        },
        "d601e6191d7142d59d68282272b3b126": {
          "model_module": "@jupyter-widgets/controls",
          "model_name": "FloatProgressModel",
          "model_module_version": "1.5.0",
          "state": {
            "_dom_classes": [],
            "_model_module": "@jupyter-widgets/controls",
            "_model_module_version": "1.5.0",
            "_model_name": "FloatProgressModel",
            "_view_count": null,
            "_view_module": "@jupyter-widgets/controls",
            "_view_module_version": "1.5.0",
            "_view_name": "ProgressView",
            "bar_style": "success",
            "description": "",
            "description_tooltip": null,
            "layout": "IPY_MODEL_2b1e27a9a9434fdda3ae7e9a2cd14958",
            "max": 2428923189,
            "min": 0,
            "orientation": "horizontal",
            "style": "IPY_MODEL_40076021bcec4ddebf9b51370c9432eb",
            "value": 2428923189
          }
        },
        "e00919840cbb4091bac7ff65af1b397b": {
          "model_module": "@jupyter-widgets/controls",
          "model_name": "HTMLModel",
          "model_module_version": "1.5.0",
          "state": {
            "_dom_classes": [],
            "_model_module": "@jupyter-widgets/controls",
            "_model_module_version": "1.5.0",
            "_model_name": "HTMLModel",
            "_view_count": null,
            "_view_module": "@jupyter-widgets/controls",
            "_view_module_version": "1.5.0",
            "_view_name": "HTMLView",
            "description": "",
            "description_tooltip": null,
            "layout": "IPY_MODEL_263637e230334f2a828f7582d3d370bc",
            "placeholder": "​",
            "style": "IPY_MODEL_37b3a790cf8d4445888c32d2b6f1fd32",
            "value": " 2.26G/2.26G [00:29&lt;00:00, 112MB/s]"
          }
        },
        "8222e33ae50d4603b0718be316e1490c": {
          "model_module": "@jupyter-widgets/base",
          "model_name": "LayoutModel",
          "model_module_version": "1.2.0",
          "state": {
            "_model_module": "@jupyter-widgets/base",
            "_model_module_version": "1.2.0",
            "_model_name": "LayoutModel",
            "_view_count": null,
            "_view_module": "@jupyter-widgets/base",
            "_view_module_version": "1.2.0",
            "_view_name": "LayoutView",
            "align_content": null,
            "align_items": null,
            "align_self": null,
            "border": null,
            "bottom": null,
            "display": null,
            "flex": null,
            "flex_flow": null,
            "grid_area": null,
            "grid_auto_columns": null,
            "grid_auto_flow": null,
            "grid_auto_rows": null,
            "grid_column": null,
            "grid_gap": null,
            "grid_row": null,
            "grid_template_areas": null,
            "grid_template_columns": null,
            "grid_template_rows": null,
            "height": null,
            "justify_content": null,
            "justify_items": null,
            "left": null,
            "margin": null,
            "max_height": null,
            "max_width": null,
            "min_height": null,
            "min_width": null,
            "object_fit": null,
            "object_position": null,
            "order": null,
            "overflow": null,
            "overflow_x": null,
            "overflow_y": null,
            "padding": null,
            "right": null,
            "top": null,
            "visibility": null,
            "width": null
          }
        },
        "5ba5abfcdf5b465e833bb55251201f9a": {
          "model_module": "@jupyter-widgets/base",
          "model_name": "LayoutModel",
          "model_module_version": "1.2.0",
          "state": {
            "_model_module": "@jupyter-widgets/base",
            "_model_module_version": "1.2.0",
            "_model_name": "LayoutModel",
            "_view_count": null,
            "_view_module": "@jupyter-widgets/base",
            "_view_module_version": "1.2.0",
            "_view_name": "LayoutView",
            "align_content": null,
            "align_items": null,
            "align_self": null,
            "border": null,
            "bottom": null,
            "display": null,
            "flex": null,
            "flex_flow": null,
            "grid_area": null,
            "grid_auto_columns": null,
            "grid_auto_flow": null,
            "grid_auto_rows": null,
            "grid_column": null,
            "grid_gap": null,
            "grid_row": null,
            "grid_template_areas": null,
            "grid_template_columns": null,
            "grid_template_rows": null,
            "height": null,
            "justify_content": null,
            "justify_items": null,
            "left": null,
            "margin": null,
            "max_height": null,
            "max_width": null,
            "min_height": null,
            "min_width": null,
            "object_fit": null,
            "object_position": null,
            "order": null,
            "overflow": null,
            "overflow_x": null,
            "overflow_y": null,
            "padding": null,
            "right": null,
            "top": null,
            "visibility": null,
            "width": null
          }
        },
        "1d15ae31732147be9459dbba30ffb24f": {
          "model_module": "@jupyter-widgets/controls",
          "model_name": "DescriptionStyleModel",
          "model_module_version": "1.5.0",
          "state": {
            "_model_module": "@jupyter-widgets/controls",
            "_model_module_version": "1.5.0",
            "_model_name": "DescriptionStyleModel",
            "_view_count": null,
            "_view_module": "@jupyter-widgets/base",
            "_view_module_version": "1.2.0",
            "_view_name": "StyleView",
            "description_width": ""
          }
        },
        "2b1e27a9a9434fdda3ae7e9a2cd14958": {
          "model_module": "@jupyter-widgets/base",
          "model_name": "LayoutModel",
          "model_module_version": "1.2.0",
          "state": {
            "_model_module": "@jupyter-widgets/base",
            "_model_module_version": "1.2.0",
            "_model_name": "LayoutModel",
            "_view_count": null,
            "_view_module": "@jupyter-widgets/base",
            "_view_module_version": "1.2.0",
            "_view_name": "LayoutView",
            "align_content": null,
            "align_items": null,
            "align_self": null,
            "border": null,
            "bottom": null,
            "display": null,
            "flex": null,
            "flex_flow": null,
            "grid_area": null,
            "grid_auto_columns": null,
            "grid_auto_flow": null,
            "grid_auto_rows": null,
            "grid_column": null,
            "grid_gap": null,
            "grid_row": null,
            "grid_template_areas": null,
            "grid_template_columns": null,
            "grid_template_rows": null,
            "height": null,
            "justify_content": null,
            "justify_items": null,
            "left": null,
            "margin": null,
            "max_height": null,
            "max_width": null,
            "min_height": null,
            "min_width": null,
            "object_fit": null,
            "object_position": null,
            "order": null,
            "overflow": null,
            "overflow_x": null,
            "overflow_y": null,
            "padding": null,
            "right": null,
            "top": null,
            "visibility": null,
            "width": null
          }
        },
        "40076021bcec4ddebf9b51370c9432eb": {
          "model_module": "@jupyter-widgets/controls",
          "model_name": "ProgressStyleModel",
          "model_module_version": "1.5.0",
          "state": {
            "_model_module": "@jupyter-widgets/controls",
            "_model_module_version": "1.5.0",
            "_model_name": "ProgressStyleModel",
            "_view_count": null,
            "_view_module": "@jupyter-widgets/base",
            "_view_module_version": "1.2.0",
            "_view_name": "StyleView",
            "bar_color": null,
            "description_width": ""
          }
        },
        "263637e230334f2a828f7582d3d370bc": {
          "model_module": "@jupyter-widgets/base",
          "model_name": "LayoutModel",
          "model_module_version": "1.2.0",
          "state": {
            "_model_module": "@jupyter-widgets/base",
            "_model_module_version": "1.2.0",
            "_model_name": "LayoutModel",
            "_view_count": null,
            "_view_module": "@jupyter-widgets/base",
            "_view_module_version": "1.2.0",
            "_view_name": "LayoutView",
            "align_content": null,
            "align_items": null,
            "align_self": null,
            "border": null,
            "bottom": null,
            "display": null,
            "flex": null,
            "flex_flow": null,
            "grid_area": null,
            "grid_auto_columns": null,
            "grid_auto_flow": null,
            "grid_auto_rows": null,
            "grid_column": null,
            "grid_gap": null,
            "grid_row": null,
            "grid_template_areas": null,
            "grid_template_columns": null,
            "grid_template_rows": null,
            "height": null,
            "justify_content": null,
            "justify_items": null,
            "left": null,
            "margin": null,
            "max_height": null,
            "max_width": null,
            "min_height": null,
            "min_width": null,
            "object_fit": null,
            "object_position": null,
            "order": null,
            "overflow": null,
            "overflow_x": null,
            "overflow_y": null,
            "padding": null,
            "right": null,
            "top": null,
            "visibility": null,
            "width": null
          }
        },
        "37b3a790cf8d4445888c32d2b6f1fd32": {
          "model_module": "@jupyter-widgets/controls",
          "model_name": "DescriptionStyleModel",
          "model_module_version": "1.5.0",
          "state": {
            "_model_module": "@jupyter-widgets/controls",
            "_model_module_version": "1.5.0",
            "_model_name": "DescriptionStyleModel",
            "_view_count": null,
            "_view_module": "@jupyter-widgets/base",
            "_view_module_version": "1.2.0",
            "_view_name": "StyleView",
            "description_width": ""
          }
        }
      }
    }
  },
  "nbformat": 4,
  "nbformat_minor": 0
}
